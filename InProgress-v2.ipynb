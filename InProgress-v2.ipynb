{
 "cells": [
  {
   "cell_type": "code",
   "execution_count": 1,
   "metadata": {},
   "outputs": [],
   "source": [
    "import json\n",
    "from pprint import pprint\n",
    "import glob\n",
    "import os\n",
    "import re\n",
    "import cv2\n",
    "import pandas as pd\n",
    "import numpy as np"
   ]
  },
  {
   "cell_type": "code",
   "execution_count": 2,
   "metadata": {},
   "outputs": [],
   "source": [
    "class Points():\n",
    "    def __init__(self):\n",
    "        self.frameNumber = -1\n",
    "        self.xLeft = []\n",
    "        self.xRight = []\n",
    "        self.yLeft = []\n",
    "        self.yRight = []\n",
    "        self.cLeft = []\n",
    "        self.cRight = []\n",
    "        self.xBody = []\n",
    "        self.yBody = []\n",
    "        self.cBody = []\n",
    "        self.totalCLeft = 0\n",
    "        self.totalCRight = 0\n",
    "    "
   ]
  },
  {
   "cell_type": "code",
   "execution_count": 3,
   "metadata": {},
   "outputs": [],
   "source": [
    "class Distance():\n",
    "    def __init__(self):\n",
    "        self.left = []\n",
    "        self.right = []\n",
    "        self.avg = 0\n",
    "        self.rank = -100\n",
    "        self.idxWord = -1\n",
    "        self.idxTrans = -1"
   ]
  },
  {
   "cell_type": "code",
   "execution_count": 4,
   "metadata": {},
   "outputs": [],
   "source": [
    "class SortedCutPoint:\n",
    "    def __init__(self):\n",
    "        self.idxDistTransA = -1\n",
    "        self.idxDistTransB = -1\n",
    "        self.totalDifIdx = -1\n",
    "        self.frameIdx = -1"
   ]
  },
  {
   "cell_type": "code",
   "execution_count": 5,
   "metadata": {},
   "outputs": [],
   "source": [
    "def LoadTransition():\n",
    "    trans = []\n",
    "#     point_ins = Points()\n",
    "#     point_ins.xLeft = []\n",
    "    files = glob.glob(\"/home/yulia/openpose/outputScene8-1/*.json\")\n",
    "    ctrTrans = 0\n",
    "    for f in files:\n",
    "        fName = os.path.basename(f)\n",
    "        number = re.findall('\\d+',f)\n",
    "        number = max(map(int,number))\n",
    "        trans.append(Points())\n",
    "        with open(f) as df:\n",
    "            data = json.load(df)\n",
    "            frameNumber = number\n",
    "            trans[ctrTrans].frameNumber = number\n",
    "            #each hand has 21 points. x,y,c --> 0 to 62\n",
    "            for i in range(0,21):\n",
    "                trans[ctrTrans].xLeft.append(data['people'][0]['hand_left_keypoints_2d'][i*3])\n",
    "                trans[ctrTrans].yLeft.append(data['people'][0]['hand_left_keypoints_2d'][i*3+1])\n",
    "                trans[ctrTrans].cLeft.append(data['people'][0]['hand_left_keypoints_2d'][i*3+2])\n",
    "                trans[ctrTrans].xRight.append(data['people'][0]['hand_right_keypoints_2d'][i*3])\n",
    "                trans[ctrTrans].yRight.append(data['people'][0]['hand_right_keypoints_2d'][i*3+1])\n",
    "                trans[ctrTrans].cRight.append(data['people'][0]['hand_right_keypoints_2d'][i*3+2])\n",
    "                trans[ctrTrans].totalCLeft += data['people'][0]['hand_left_keypoints_2d'][i*3+2]\n",
    "                trans[ctrTrans].totalCRight += data['people'][0]['hand_right_keypoints_2d'][i*3+2]\n",
    "            for i in range(0, 25):\n",
    "                trans[ctrTrans].xBody.append(data['people'][0]['pose_keypoints_2d'][i*3])\n",
    "                trans[ctrTrans].yBody.append(data['people'][0]['pose_keypoints_2d'][i*3+1])\n",
    "                trans[ctrTrans].cBody.append(data['people'][0]['pose_keypoints_2d'][i*3+2])\n",
    "        ctrTrans+=1\n",
    "    return trans"
   ]
  },
  {
   "cell_type": "code",
   "execution_count": 6,
   "metadata": {},
   "outputs": [],
   "source": [
    "trans = LoadTransition()"
   ]
  },
  {
   "cell_type": "code",
   "execution_count": 7,
   "metadata": {},
   "outputs": [
    {
     "data": {
      "text/plain": [
       "1332"
      ]
     },
     "execution_count": 7,
     "metadata": {},
     "output_type": "execute_result"
    }
   ],
   "source": [
    "len(trans)"
   ]
  },
  {
   "cell_type": "code",
   "execution_count": 8,
   "metadata": {},
   "outputs": [],
   "source": [
    "wordsFrame = []\n",
    "wordsFrame.append(Points())\n",
    "ctrWordsFrame = 0\n",
    "with open(\"/home/yulia/openpose/african_american/african_american_000000000060_keypoints.json\") as df:\n",
    "    data = json.load(df)\n",
    "    wordsFrame[ctrWordsFrame].frameNumber = ctrWordsFrame\n",
    "    #each hand has 21 points. x,y,c --> 0 to 62\n",
    "    for i in range(0,21):\n",
    "        wordsFrame[ctrWordsFrame].xLeft.append(data['people'][0]['hand_left_keypoints_2d'][i*3])\n",
    "        wordsFrame[ctrWordsFrame].yLeft.append(data['people'][0]['hand_left_keypoints_2d'][i*3+1])\n",
    "        wordsFrame[ctrWordsFrame].cLeft.append(data['people'][0]['hand_left_keypoints_2d'][i*3+2])\n",
    "        wordsFrame[ctrWordsFrame].xRight.append(data['people'][0]['hand_right_keypoints_2d'][i*3])\n",
    "        wordsFrame[ctrWordsFrame].yRight.append(data['people'][0]['hand_right_keypoints_2d'][i*3+1])\n",
    "        wordsFrame[ctrWordsFrame].cRight.append(data['people'][0]['hand_right_keypoints_2d'][i*3+2])\n",
    "    for i in range(0, 25):\n",
    "        wordsFrame[ctrWordsFrame].xBody.append(data['people'][0]['pose_keypoints_2d'][i*3])\n",
    "        wordsFrame[ctrWordsFrame].yBody.append(data['people'][0]['pose_keypoints_2d'][i*3+1])\n",
    "        wordsFrame[ctrWordsFrame].cBody.append(data['people'][0]['pose_keypoints_2d'][i*3+2])\n",
    "\n",
    "ctrWordsFrame+=1\n",
    "wordsFrame.append(Points())\n",
    "with open(\"/home/yulia/openpose/advisor1/advisor1_000000000000_keypoints.json\") as df:\n",
    "    data = json.load(df)\n",
    "    wordsFrame[ctrWordsFrame].frameNumber = ctrWordsFrame\n",
    "\n",
    "    #each hand has 21 points. x,y,c --> 0 to 62\n",
    "    for i in range(0,21):\n",
    "        wordsFrame[ctrWordsFrame].xLeft.append(data['people'][0]['hand_left_keypoints_2d'][i*3])\n",
    "        wordsFrame[ctrWordsFrame].yLeft.append(data['people'][0]['hand_left_keypoints_2d'][i*3+1])\n",
    "        wordsFrame[ctrWordsFrame].cLeft.append(data['people'][0]['hand_left_keypoints_2d'][i*3+2])\n",
    "        wordsFrame[ctrWordsFrame].xRight.append(data['people'][0]['hand_right_keypoints_2d'][i*3])\n",
    "        wordsFrame[ctrWordsFrame].yRight.append(data['people'][0]['hand_right_keypoints_2d'][i*3+1])\n",
    "        wordsFrame[ctrWordsFrame].cRight.append(data['people'][0]['hand_right_keypoints_2d'][i*3+2])\n",
    "    for i in range(0, 25):\n",
    "        wordsFrame[ctrWordsFrame].xBody.append(data['people'][0]['pose_keypoints_2d'][i*3])\n",
    "        wordsFrame[ctrWordsFrame].yBody.append(data['people'][0]['pose_keypoints_2d'][i*3+1])\n",
    "        wordsFrame[ctrWordsFrame].cBody.append(data['people'][0]['pose_keypoints_2d'][i*3+2])"
   ]
  },
  {
   "cell_type": "code",
   "execution_count": 9,
   "metadata": {},
   "outputs": [
    {
     "name": "stdout",
     "output_type": "stream",
     "text": [
      "942\n",
      "===================================\n",
      "1243\n",
      "===================================\n",
      "245\n",
      "===================================\n",
      "941\n",
      "===================================\n",
      "246\n",
      "===================================\n",
      "943\n",
      "===================================\n",
      "282\n",
      "===================================\n"
     ]
    }
   ],
   "source": [
    "transFrame = []\n",
    "dist = []\n",
    "transFrame.append(wordsFrame[0])\n",
    "transFrame.append(wordsFrame[1])\n",
    "for loop in range(0,3):\n",
    "    for i in range(0,len(transFrame)):\n",
    "        if(len(dist) <= i or dist[i][0].idxWord != transFrame[i].frameNumber):\n",
    "            dist.insert(i,[])\n",
    "#             print(str(i) + \" || \" + str(len(transFrame)))\n",
    "            for j in range(0, len(trans)):\n",
    "                dist[i].append(Distance())\n",
    "                for k in range(0, 21):\n",
    "                    x1 = transFrame[i].xLeft[k]\n",
    "                    x2 = trans[j].xLeft[k]\n",
    "                    y1 = transFrame[i].yLeft[k]\n",
    "                    y2 = trans[j].yLeft[k]\n",
    "                    dist[i][j].left.append(np.sqrt(np.power(x1-x2,2)+np.power(y1-y2,2)))\n",
    "                    x1 = transFrame[i].xRight[k]\n",
    "                    x2 = trans[j].xRight[k]\n",
    "                    y1 = transFrame[i].yLeft[k]\n",
    "                    y2 = trans[j].yLeft[k]\n",
    "                    dist[i][j].right.append(np.sqrt(np.power(x1-x2,2)+np.power(y1-y2,2)))\n",
    "                    dist[i][j].avg = np.mean(dist[i][j].left + dist[i][j].right)\n",
    "#                     dist[i][j].avg = np.max(dist[i][j].left + dist[i][j].right)\n",
    "                    dist[i][j].idxWord = transFrame[i].frameNumber\n",
    "                    dist[i][j].idxTrans = trans[j].frameNumber\n",
    "    for i in range(0, len(transFrame)):\n",
    "        dist[i].sort(key = lambda x: x.avg, reverse = False)\n",
    "#         print(\"=======================================================\")\n",
    "#         for j in range(0, len(trans)):\n",
    "#             print(str(dist[i][j].avg)  + \" : \" + str(dist[i][j].idxTrans) )\n",
    "    \n",
    "    frameNum = len(transFrame)\n",
    "    tempTransFrame = []\n",
    "    for n in range(0, frameNum-1):\n",
    "        tempTransFrame.append(transFrame[n])\n",
    "        sortedCutPoint = []\n",
    "        for i in range(0, len(trans)):\n",
    "            sortedCutPoint.append(SortedCutPoint())\n",
    "            for j in range(0, len(trans)):\n",
    "                if dist[n][i].idxTrans == dist[n+1][j].idxTrans:\n",
    "                    sortedCutPoint[i].idxDistTransA = i\n",
    "                    sortedCutPoint[i].idxDistTransB = j\n",
    "                    sortedCutPoint[i].totalDifIdx = i+j\n",
    "                    sortedCutPoint[i].frameIdx = dist[n][i].idxTrans\n",
    "                    break\n",
    "        sortedCutPoint.sort(key = lambda x: x.totalDifIdx, reverse = False)\n",
    "#         for i in range(0, len(trans)):\n",
    "#             print(sortedCutPoint[i].idxDistTransA)\n",
    "#             print(sortedCutPoint[i].idxDistTransB)\n",
    "#             print(sortedCutPoint[i].totalDifIdx)\n",
    "        print(sortedCutPoint[0].frameIdx)\n",
    "        print(\"===================================\")\n",
    "        fn = sortedCutPoint[0]\n",
    "        temp_list = list(filter(lambda x: x.frameNumber == sortedCutPoint[0].frameIdx, trans))\n",
    "        trans = list(filter(lambda x : x.frameNumber != sortedCutPoint[0].frameIdx, trans))\n",
    "        for i in range(0,len(dist)):\n",
    "            dist[i] = list(filter(lambda x : x.idxTrans != sortedCutPoint[0].frameIdx, dist[i]))\n",
    "#         transFrame.insert(n+1,temp_list[0])\n",
    "        tempTransFrame.append(temp_list[0])\n",
    "    tempTransFrame.append(transFrame[len(transFrame)-1])\n",
    "    transFrame = tempTransFrame.copy()\n",
    "    del(tempTransFrame)"
   ]
  },
  {
   "cell_type": "code",
   "execution_count": null,
   "metadata": {},
   "outputs": [],
   "source": []
  },
  {
   "cell_type": "code",
   "execution_count": 10,
   "metadata": {},
   "outputs": [],
   "source": [
    "def readVideo(vid):\n",
    "    cap = vid\n",
    "    frameCount = int(cap.get(cv2.CAP_PROP_FRAME_COUNT))\n",
    "    frameWidth = int(cap.get(cv2.CAP_PROP_FRAME_WIDTH))\n",
    "    frameHeight = int(cap.get(cv2.CAP_PROP_FRAME_HEIGHT))\n",
    "    print(frameWidth)\n",
    "    \n",
    "    buf = np.empty((frameCount, frameHeight, frameWidth, 3), np.dtype('uint8'))\n",
    "    \n",
    "    fc = 0\n",
    "    ret = True\n",
    "\n",
    "    while (fc < frameCount  and ret):\n",
    "        ret, buf[fc] = cap.read()\n",
    "        fc += 1\n",
    "\n",
    "    cap.release()\n",
    "    return buf"
   ]
  },
  {
   "cell_type": "code",
   "execution_count": 11,
   "metadata": {},
   "outputs": [
    {
     "name": "stdout",
     "output_type": "stream",
     "text": [
      "1920\n"
     ]
    }
   ],
   "source": [
    "#read transition video and save to array of images\n",
    "vidTrans = cv2.VideoCapture('/home/yulia/Documents/scene8-camera1.mp4')\n",
    "vidAfricanAmerican = cv2.VideoCapture('/home/yulia/Documents/ASL/african_american.mp4')\n",
    "vidAdvisor = cv2.VideoCapture('/home/yulia/Documents/ASL/advisor1.mp4')\n",
    "transImg = readVideo(vidTrans)"
   ]
  },
  {
   "cell_type": "code",
   "execution_count": 12,
   "metadata": {},
   "outputs": [
    {
     "name": "stdout",
     "output_type": "stream",
     "text": [
      "1920\n",
      "1920\n"
     ]
    }
   ],
   "source": [
    "wordsVid = []\n",
    "wordsVid.append(readVideo(vidAfricanAmerican))\n",
    "wordsVid.append(readVideo(vidAdvisor))"
   ]
  },
  {
   "cell_type": "code",
   "execution_count": 13,
   "metadata": {},
   "outputs": [],
   "source": [
    "writtenTrans = []\n",
    "transFrame.pop(0)\n",
    "transFrame.pop(len(transFrame)-1)\n",
    "for i in range(0,len(transFrame)):\n",
    "    writtenTrans.append(transImg[transFrame[i].frameNumber])\n",
    "# for i in range(0,sortedCutPoint[0].idxDistTransA):\n",
    "#     writtenTrans.append(transImg[dist[0][i].idxTrans])\n",
    "# for i in range(sortedCutPoint[0].idxDistTransB-1, -1, -1):\n",
    "#     writtenTrans.append(transImg[dist[1][i].idxTrans])"
   ]
  },
  {
   "cell_type": "code",
   "execution_count": 14,
   "metadata": {},
   "outputs": [
    {
     "name": "stdout",
     "output_type": "stream",
     "text": [
      "941\n",
      "1243\n",
      "246\n",
      "942\n",
      "943\n",
      "245\n",
      "282\n"
     ]
    }
   ],
   "source": [
    "for i in range(0,len(transFrame)):\n",
    "    print(transFrame[i].frameNumber)"
   ]
  },
  {
   "cell_type": "code",
   "execution_count": 15,
   "metadata": {},
   "outputs": [],
   "source": [
    "totalWrittenFrames = []\n",
    "totalWrittenFrames.append(wordsVid[0])\n",
    "totalWrittenFrames.append(writtenTrans)\n",
    "totalWrittenFrames.append(wordsVid[1])"
   ]
  },
  {
   "cell_type": "code",
   "execution_count": 16,
   "metadata": {},
   "outputs": [
    {
     "name": "stdout",
     "output_type": "stream",
     "text": [
      "0\n",
      "1\n",
      "2\n",
      "3\n",
      "4\n",
      "5\n",
      "6\n",
      "7\n",
      "8\n",
      "9\n",
      "10\n",
      "11\n",
      "12\n",
      "13\n",
      "14\n",
      "15\n",
      "16\n",
      "17\n",
      "18\n",
      "19\n",
      "20\n",
      "21\n",
      "22\n",
      "23\n",
      "24\n",
      "25\n",
      "26\n",
      "27\n",
      "28\n",
      "29\n",
      "30\n",
      "31\n",
      "32\n",
      "33\n",
      "34\n",
      "35\n",
      "36\n",
      "37\n",
      "38\n",
      "39\n",
      "40\n",
      "41\n",
      "42\n",
      "43\n",
      "44\n",
      "45\n",
      "46\n",
      "47\n",
      "48\n",
      "49\n",
      "50\n",
      "51\n",
      "52\n",
      "53\n",
      "54\n",
      "55\n",
      "56\n",
      "57\n",
      "58\n",
      "59\n",
      "60\n",
      "0\n",
      "1\n",
      "2\n",
      "3\n",
      "4\n",
      "5\n",
      "6\n",
      "0\n",
      "1\n",
      "2\n",
      "3\n",
      "4\n",
      "5\n",
      "6\n",
      "7\n",
      "8\n",
      "9\n",
      "10\n",
      "11\n",
      "12\n",
      "13\n",
      "14\n",
      "15\n",
      "16\n",
      "17\n",
      "18\n",
      "19\n",
      "20\n",
      "21\n",
      "22\n",
      "23\n",
      "24\n",
      "25\n"
     ]
    }
   ],
   "source": [
    "height,width,channels = wordsVid[0][0].shape\n",
    "out = cv2.VideoWriter('/home/yulia/outpy3_10.mp4',cv2.VideoWriter_fourcc('F','M','P', '4'), 10, (width,height))\n",
    "# out = cv2.VideoWriter('/home/yulia/outpyMax2.mp4',cv2.VideoWriter_fourcc('F','M','P', '4'), 10, (width,height))\n",
    "# out.set(cv2.CAP_PROP_FPS,300)\n",
    "# out.set(cv2.CAP_PROP_FPS, vidTrans.get(cv2.CAP_PROP_FPS))\n",
    "for i in range(0, len(totalWrittenFrames)):\n",
    "    for frame in range(0, len(totalWrittenFrames[i])):\n",
    "        out.write(totalWrittenFrames[i][frame])\n",
    "        print(frame)\n",
    "out.release()"
   ]
  },
  {
   "cell_type": "code",
   "execution_count": 17,
   "metadata": {},
   "outputs": [
    {
     "data": {
      "text/plain": [
       "7"
      ]
     },
     "execution_count": 17,
     "metadata": {},
     "output_type": "execute_result"
    }
   ],
   "source": [
    "len(totalWrittenFrames[1])"
   ]
  },
  {
   "cell_type": "code",
   "execution_count": null,
   "metadata": {},
   "outputs": [],
   "source": []
  }
 ],
 "metadata": {
  "kernelspec": {
   "display_name": "Python 3",
   "language": "python",
   "name": "python3"
  },
  "language_info": {
   "codemirror_mode": {
    "name": "ipython",
    "version": 3
   },
   "file_extension": ".py",
   "mimetype": "text/x-python",
   "name": "python",
   "nbconvert_exporter": "python",
   "pygments_lexer": "ipython3",
   "version": "3.5.5"
  }
 },
 "nbformat": 4,
 "nbformat_minor": 2
}
