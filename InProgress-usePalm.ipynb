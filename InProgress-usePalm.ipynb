{
 "cells": [
  {
   "cell_type": "code",
   "execution_count": 64,
   "metadata": {
    "scrolled": true
   },
   "outputs": [],
   "source": [
    "import json\n",
    "from pprint import pprint\n",
    "import glob\n",
    "import os\n",
    "import re\n",
    "import cv2\n",
    "import pandas as pd\n",
    "import numpy as np\n",
    "import sys"
   ]
  },
  {
   "cell_type": "code",
   "execution_count": 65,
   "metadata": {
    "scrolled": true
   },
   "outputs": [],
   "source": [
    "class Points(): \n",
    "    def __init__(self):\n",
    "        self.frameNuber = -1\n",
    "        self.xLeft = []\n",
    "        self.xRight = []\n",
    "        self.yLeft = []\n",
    "        self.yRight = []\n",
    "        self.cLeft = []\n",
    "        self.cRight = []\n",
    "        self.xBody = []\n",
    "        self.yBody = []\n",
    "        self.cBody = []\n",
    "        self.minDist = sys.float_info.max\n",
    "    "
   ]
  },
  {
   "cell_type": "code",
   "execution_count": 66,
   "metadata": {
    "scrolled": true
   },
   "outputs": [],
   "source": [
    "class SortedCutPoint:\n",
    "    def __init__(self):\n",
    "        self.idxDistTransA = -1\n",
    "        self.idxDistTransB = -1\n",
    "        self.totalDifIdx = -1\n",
    "        self.frameIdx = -1"
   ]
  },
  {
   "cell_type": "code",
   "execution_count": 67,
   "metadata": {
    "scrolled": true
   },
   "outputs": [],
   "source": [
    "def LoadTransition():\n",
    "    trans = []\n",
    "#     point_ins = Points()\n",
    "#     point_ins.xLeft = []\n",
    "    files = glob.glob(\"/home/yulia/openpose/transition3/*.json\")\n",
    "    ctrTrans = 0\n",
    "    for f in files:\n",
    "        fName = os.path.basename(f)\n",
    "        number = re.split(\"(\\d+)\", fName)\n",
    "        number = int(number[3])\n",
    "        trans.append(Points())\n",
    "        with open(f) as df:\n",
    "            data = json.load(df)\n",
    "            frameNumber = number\n",
    "            trans[ctrTrans].frameNumber = number\n",
    "#             print(number)\n",
    "            #each hand has 21 points. x,y,c --> 0 to 62\n",
    "            for i in range(0,21):\n",
    "                trans[ctrTrans].xLeft.append(data['people'][0]['hand_left_keypoints_2d'][i*3])\n",
    "                trans[ctrTrans].yLeft.append(data['people'][0]['hand_left_keypoints_2d'][i*3+1])\n",
    "                trans[ctrTrans].cLeft.append(data['people'][0]['hand_left_keypoints_2d'][i*3+2])\n",
    "                trans[ctrTrans].xRight.append(data['people'][0]['hand_right_keypoints_2d'][i*3])\n",
    "                trans[ctrTrans].yRight.append(data['people'][0]['hand_right_keypoints_2d'][i*3+1])\n",
    "                trans[ctrTrans].cRight.append(data['people'][0]['hand_right_keypoints_2d'][i*3+2])\n",
    "            for i in range(0, 25):\n",
    "                trans[ctrTrans].xBody.append(data['people'][0]['pose_keypoints_2d'][i*3])\n",
    "                trans[ctrTrans].yBody.append(data['people'][0]['pose_keypoints_2d'][i*3+1])\n",
    "                trans[ctrTrans].cBody.append(data['people'][0]['pose_keypoints_2d'][i*3+2])\n",
    "        ctrTrans+=1\n",
    "    return trans"
   ]
  },
  {
   "cell_type": "code",
   "execution_count": 68,
   "metadata": {
    "scrolled": true
   },
   "outputs": [],
   "source": [
    "trans = LoadTransition()"
   ]
  },
  {
   "cell_type": "code",
   "execution_count": 69,
   "metadata": {
    "scrolled": true
   },
   "outputs": [],
   "source": [
    "wordsFrame = []\n",
    "wordsFrame.append(Points())\n",
    "ctrWordsFrame = 0\n",
    "with open(\"/home/yulia/openpose/baby/baby_000000000032_keypoints.json\") as df:\n",
    "    data = json.load(df)\n",
    "    wordsFrame[ctrWordsFrame].frameNumber = ctrWordsFrame\n",
    "    #each hand has 21 points. x,y,c --> 0 to 62\n",
    "    for i in range(0,21):\n",
    "        wordsFrame[ctrWordsFrame].xLeft.append(data['people'][0]['hand_left_keypoints_2d'][i*3])\n",
    "        wordsFrame[ctrWordsFrame].yLeft.append(data['people'][0]['hand_left_keypoints_2d'][i*3+1])\n",
    "        wordsFrame[ctrWordsFrame].cLeft.append(data['people'][0]['hand_left_keypoints_2d'][i*3+2])\n",
    "        wordsFrame[ctrWordsFrame].xRight.append(data['people'][0]['hand_right_keypoints_2d'][i*3])\n",
    "        wordsFrame[ctrWordsFrame].yRight.append(data['people'][0]['hand_right_keypoints_2d'][i*3+1])\n",
    "        wordsFrame[ctrWordsFrame].cRight.append(data['people'][0]['hand_right_keypoints_2d'][i*3+2])\n",
    "    for i in range(0, 25):\n",
    "        wordsFrame[ctrWordsFrame].xBody.append(data['people'][0]['pose_keypoints_2d'][i*3])\n",
    "        wordsFrame[ctrWordsFrame].yBody.append(data['people'][0]['pose_keypoints_2d'][i*3+1])\n",
    "        wordsFrame[ctrWordsFrame].cBody.append(data['people'][0]['pose_keypoints_2d'][i*3+2])\n",
    "\n",
    "ctrWordsFrame+=1\n",
    "wordsFrame.append(Points())\n",
    "with open(\"/home/yulia/openpose/awake/awake_000000000000_keypoints.json\") as df:\n",
    "    data = json.load(df)\n",
    "    wordsFrame[ctrWordsFrame].frameNumber = ctrWordsFrame\n",
    "\n",
    "    #each hand has 21 points. x,y,c --> 0 to 62\n",
    "    for i in range(0,21):\n",
    "        wordsFrame[ctrWordsFrame].xLeft.append(data['people'][0]['hand_left_keypoints_2d'][i*3])\n",
    "        wordsFrame[ctrWordsFrame].yLeft.append(data['people'][0]['hand_left_keypoints_2d'][i*3+1])\n",
    "        wordsFrame[ctrWordsFrame].cLeft.append(data['people'][0]['hand_left_keypoints_2d'][i*3+2])\n",
    "        wordsFrame[ctrWordsFrame].xRight.append(data['people'][0]['hand_right_keypoints_2d'][i*3])\n",
    "        wordsFrame[ctrWordsFrame].yRight.append(data['people'][0]['hand_right_keypoints_2d'][i*3+1])\n",
    "        wordsFrame[ctrWordsFrame].cRight.append(data['people'][0]['hand_right_keypoints_2d'][i*3+2])\n",
    "    for i in range(0, 25):\n",
    "        wordsFrame[ctrWordsFrame].xBody.append(data['people'][0]['pose_keypoints_2d'][i*3])\n",
    "        wordsFrame[ctrWordsFrame].yBody.append(data['people'][0]['pose_keypoints_2d'][i*3+1])\n",
    "        wordsFrame[ctrWordsFrame].cBody.append(data['people'][0]['pose_keypoints_2d'][i*3+2])"
   ]
  },
  {
   "cell_type": "code",
   "execution_count": 70,
   "metadata": {
    "scrolled": true
   },
   "outputs": [],
   "source": [
    "class Distance(object):\n",
    "    def __init__(self):\n",
    "        self.fiX = []\n",
    "        self.fiY = []\n",
    "        self.hjX = []\n",
    "        self.hjY = []\n",
    "        self.fiSubHj = []\n",
    "        self.distance = 0\n",
    "        self.From = -1\n",
    "        self.To = -1\n",
    "        self.wordFrom = -1\n",
    "        self.wordTo = -1"
   ]
  },
  {
   "cell_type": "code",
   "execution_count": 188,
   "metadata": {},
   "outputs": [],
   "source": [
    "class BallEquation(object):\n",
    "    def __init__(self):\n",
    "        self.point_pairs = ['0,1', '0,5', '0,9', '0,13', '0,17']\n",
    "        self.radius_list = []\n",
    "        self.radius_origin_scene = []"
   ]
  },
  {
   "cell_type": "code",
   "execution_count": 72,
   "metadata": {},
   "outputs": [],
   "source": [
    "tempTrans = trans.copy()\n",
    "\n",
    "#make the range for the Y position of the palm with index point = 0\n",
    "if wordsFrame[0].yLeft[0] > wordsFrame[1].yLeft[0]:\n",
    "    yLeftMin = wordsFrame[1].yLeft[0]\n",
    "    yLeftMax = wordsFrame[0].yLeft[0]\n",
    "else:\n",
    "    yLeftMin = wordsFrame[0].yLeft[0]\n",
    "    yLeftMax = wordsFrame[1].yLeft[0]\n",
    "if wordsFrame[0].yRight[0] > wordsFrame[1].yRight[0]:\n",
    "    yRightMin = wordsFrame[1].yRight[0]\n",
    "    yRightMax = wordsFrame[0].yRight[0]\n",
    "else:\n",
    "    yRightMin = wordsFrame[0].yRight[0]\n",
    "    yRightMax = wordsFrame[1].yRight[0]\n",
    "\n",
    "filteredTransByY = list(filter(lambda x : x.yLeft[0] <= yLeftMax and x.yLeft[0] >= yLeftMin and x.yRight[0] <= yRightMax and x.yRight[0] >= yRightMin, tempTrans))"
   ]
  },
  {
   "cell_type": "code",
   "execution_count": 73,
   "metadata": {},
   "outputs": [
    {
     "data": {
      "text/plain": [
       "177"
      ]
     },
     "execution_count": 73,
     "metadata": {},
     "output_type": "execute_result"
    }
   ],
   "source": [
    "filteredTransByY[0].frameNumber"
   ]
  },
  {
   "cell_type": "code",
   "execution_count": 193,
   "metadata": {},
   "outputs": [],
   "source": [
    "ball = []\n",
    "for w in range(0,2):\n",
    "    ball.append(BallEquation())\n",
    "    for i in range(0,2): #2 hands\n",
    "        if i == 0:\n",
    "            handX = wordsFrame[w].xLeft\n",
    "            handY = wordsFrame[w].yLeft\n",
    "        else:\n",
    "            handX = wordsFrame[w].xRight\n",
    "            handY = wordsFrame[w].yRight\n",
    "\n",
    "        for j in range(0,5): #5 fingers\n",
    "            center_point_x = handX[(int)(ball[w].point_pairs[j].split(',')[0])]\n",
    "            center_point_y = handY[(int)(ball[w].point_pairs[j].split(',')[0])]\n",
    "            related_point_x = handX[(int)(ball[w].point_pairs[j].split(',')[1])]\n",
    "            related_point_y = handY[(int)(ball[w].point_pairs[j].split(',')[1])]\n",
    "\n",
    "            for k in range(0,4): #4 ball equations for each finger\n",
    "                rel_x = np.round(related_point_x - center_point_x)\n",
    "                rel_y = np.round(related_point_y - center_point_y)\n",
    "                radius = np.power(rel_x,2)+np.power(rel_y,2)\n",
    "                ball[w].radius_list.append(radius)\n",
    "#                 rel_z = np.sqrt(radius-np.power(rel_x,2)-np.power(rel_y,2))\n",
    "                if(k < 3):\n",
    "                    center_point_x = related_point_x\n",
    "                    center_point_y = related_point_y\n",
    "                    related_point_x = handX[(int)(ball[w].point_pairs[j].split(',')[1])+k+1]\n",
    "                    related_point_y = handY[(int)(ball[w].point_pairs[j].split(',')[1])+k+1]\n",
    "            "
   ]
  },
  {
   "cell_type": "code",
   "execution_count": 196,
   "metadata": {},
   "outputs": [
    {
     "data": {
      "text/plain": [
       "[array([1, 1, 0, 0, 0, 0, 1, 0, 0, 0, 1, 0, 0, 1, 0, 0, 0, 1, 1, 1, 0, 0,\n",
       "        0, 1, 0, 0, 1, 1, 0, 0, 0, 0, 0, 1, 0, 0, 0, 1, 1, 0])]"
      ]
     },
     "execution_count": 196,
     "metadata": {},
     "output_type": "execute_result"
    }
   ],
   "source": [
    "balls=[]\n",
    "for i in range(0,2):\n",
    "    balls.append(ball[i].radius_list)\n",
    "hand_ball_equation = []\n",
    "hand_ball_equation = BallEquation()\n",
    "hand_ball_equation.radius_list.append(np.amax(balls,axis=0))\n",
    "hand_ball_equation.radius_origin_scene.append(np.argmax(balls,axis=0))"
   ]
  },
  {
   "cell_type": "code",
   "execution_count": 234,
   "metadata": {},
   "outputs": [
    {
     "data": {
      "text/plain": [
       "18"
      ]
     },
     "execution_count": 234,
     "metadata": {},
     "output_type": "execute_result"
    }
   ],
   "source": [
    "(int)(hand_ball_equation.point_pairs[17%20//4].split(',')[1])+(17%20%4)"
   ]
  },
  {
   "cell_type": "code",
   "execution_count": 247,
   "metadata": {},
   "outputs": [
    {
     "data": {
      "text/plain": [
       "1"
      ]
     },
     "execution_count": 247,
     "metadata": {},
     "output_type": "execute_result"
    }
   ],
   "source": [
    "13%20%4"
   ]
  },
  {
   "cell_type": "code",
   "execution_count": 250,
   "metadata": {},
   "outputs": [
    {
     "name": "stdout",
     "output_type": "stream",
     "text": [
      "15.556349186104045\n",
      "13.341664064126334\n",
      "17.72004514666935\n",
      "3.4641016151377544\n",
      "26.49528259898354\n",
      "25.768197453450252\n",
      "10.392304845413264\n",
      "13.96424004376894\n",
      "17.05872210923198\n",
      "25.298221281347036\n",
      "7.810249675906654\n",
      "14.798648586948742\n",
      "31.0\n",
      "26.94438717061496\n",
      "17.578395831246947\n",
      "9.38083151964686\n",
      "34.10278580995987\n",
      "22.47220505424423\n",
      "5.744562646538029\n",
      "7.211102550927978\n",
      "17.320508075688775\n",
      "8.246211251235321\n",
      "31.827660925679098\n",
      "51.633322573702344\n",
      "32.12475680841802\n",
      "31.622776601683793\n",
      "5.385164807134504\n",
      "16.64331697709324\n",
      "60.654760736483\n",
      "17.175564037317667\n",
      "10.770329614269007\n",
      "12.96148139681572\n",
      "67.6904720030818\n",
      "12.041594578792296\n",
      "22.80350850198276\n",
      "40.93897898091744\n",
      "75.67694497005016\n",
      "18.24828759089466\n",
      "10.63014581273465\n",
      "51.478150704935004\n"
     ]
    }
   ],
   "source": [
    "for i in range(0,40):\n",
    "    if hand_ball_equation.radius_origin_scene[0][i] == 0:\n",
    "        scene = 1\n",
    "    else:\n",
    "        scene = 0\n",
    "    if i < 20:\n",
    "        handX = wordsFrame[scene].xLeft\n",
    "        handY = wordsFrame[scene].yLeft\n",
    "    else:\n",
    "        handX = wordsFrame[scene].xRight\n",
    "        handY = wordsFrame[scene].yRight\n",
    "\n",
    "    if i%20%4 == 0:\n",
    "        center_point_x = handX[(int)(hand_ball_equation.point_pairs[i%20//4].split(',')[0])]\n",
    "        center_point_y = handY[(int)(hand_ball_equation.point_pairs[i%20//4].split(',')[0])]\n",
    "        related_point_x = handX[(int)(hand_ball_equation.point_pairs[i%20//4].split(',')[1])]\n",
    "        related_point_y = handY[(int)(hand_ball_equation.point_pairs[i%20//4].split(',')[1])]\n",
    "    else:\n",
    "        center_point_x = handX[(int)(hand_ball_equation.point_pairs[i%20//4].split(',')[1])+(i%20%4)-1]\n",
    "        center_point_y = handY[(int)(hand_ball_equation.point_pairs[i%20//4].split(',')[1])+(i%20%4)-1]\n",
    "        related_point_x = handX[(int)(hand_ball_equation.point_pairs[i%20//4].split(',')[1])+(i%20%4)]\n",
    "        related_point_y = handY[(int)(hand_ball_equation.point_pairs[i%20//4].split(',')[1])+(i%20%4)]\n",
    "#         print((int)(hand_ball_equation.point_pairs[i%20//4].split(',')[1])+(i%20%4)-1)\n",
    "#         print((int)(hand_ball_equation.point_pairs[i%20//4].split(',')[1])+(i%20%4))\n",
    "        \n",
    "    rel_x = np.round(related_point_x - center_point_x)\n",
    "    rel_y = np.round(related_point_y - center_point_y)\n",
    "    radius = hand_ball_equation.radius_list[0][i]\n",
    "    rel_z = np.sqrt(radius-np.power(rel_x,2)-np.power(rel_y,2))\n",
    "    print(rel_z)\n",
    "#     print(radius)\n",
    "#     print(rel_x)\n",
    "#     print(np.power(rel_x,2))\n",
    "#     print(rel_y)\n",
    "#     print(np.power(rel_y,2))\n",
    "#     print(radius-np.power(rel_x,2)-np.power(rel_y,2))\n",
    "#     print()"
   ]
  },
  {
   "cell_type": "code",
   "execution_count": null,
   "metadata": {},
   "outputs": [],
   "source": [
    "#order the Y value of the palm keypoint number 0 so that the direction of the palm translation is ordered correctly\n",
    "#find the most dominant moving hand, since there are 2 hands need to be concerned. if the movement is bigger, consider it as the key to order the list\n",
    "if yRightMax - yRightMin > yLeftMax - yLeftMin:\n",
    "    "
   ]
  },
  {
   "cell_type": "code",
   "execution_count": null,
   "metadata": {},
   "outputs": [],
   "source": [
    "# transFrame = []\n",
    "# dist = []\n",
    "# transFrame.append(wordsFrame[0])\n",
    "# transFrame.append(wordsFrame[1])\n",
    "# tempTrans = trans.copy()\n",
    "# tempTrans.append(transFrame[0])\n",
    "# tempTrans.append(transFrame[1])\n",
    "# idx = 0`\n",
    "\n",
    "# for i in range(0,len(tempTrans)):\n",
    "#     for j in range(i+1, len(tempTrans)):\n",
    "#         dist.append(Distance())\n",
    "#         for k in range(0, 21):\n",
    "#             xL1 = tempTrans[i].xLeft[k]\n",
    "#             yL1 = tempTrans[i].yLeft[k]\n",
    "#             xR1 = tempTrans[i].xRight[k]\n",
    "#             yR1 = tempTrans[i].yRight[k]\n",
    "#             xL2 = tempTrans[j].xLeft[k]\n",
    "#             yL2 = tempTrans[j].yLeft[k]\n",
    "#             xR2 = tempTrans[j].xRight[k]\n",
    "#             yR2 = tempTrans[j].yRight[k]\n",
    "\n",
    "#             dist[idx].fiX.append(xL1)\n",
    "#             dist[idx].fiX.append(xR1)\n",
    "\n",
    "#             dist[idx].hjX.append(xL2)\n",
    "#             dist[idx].hjX.append(xR2)\n",
    "\n",
    "#             dist[idx].fiY.append(yL1)\n",
    "#             dist[idx].fiY.append(yR1)\n",
    "\n",
    "#             dist[idx].hjY.append(yL2)\n",
    "#             dist[idx].hjY.append(yR2)\n",
    "\n",
    "#             dist1 = np.absolute(xL1-xL2)+np.absolute(yL1 - yL2)\n",
    "#             dist[idx].fiSubHj.append(dist1)\n",
    "\n",
    "#             dist2 = np.absolute(xR1 - xR2)+np.absolute(yR1 - yR2)\n",
    "#             dist[idx].fiSubHj.append(dist2)\n",
    "\n",
    "#         #get value at the minimum index of the substraction result ||fi-hj||\n",
    "#         minXI = dist[idx].fiX[dist[idx].fiSubHj.index(np.min(dist[idx].fiSubHj))]\n",
    "#         minYI = dist[idx].fiY[dist[idx].fiSubHj.index(np.min(dist[idx].fiSubHj))]\n",
    "#         minXJ = dist[idx].hjX[dist[idx].fiSubHj.index(np.min(dist[idx].fiSubHj))]\n",
    "#         minYJ = dist[idx].hjY[dist[idx].fiSubHj.index(np.min(dist[idx].fiSubHj))]\n",
    "\n",
    "#         fiMinHj = 0\n",
    "#         minFiHj = 0\n",
    "#         for k in range(0, 42):\n",
    "#             fiMinHj += np.absolute(dist[idx].fiX[k] - minXJ) + np.absolute(dist[idx].fiY[k] - minYJ)\n",
    "#             minFiHj += np.absolute(minXI - dist[idx].hjX[k]) + np.absolute(minYI - dist[idx].hjY[k])\n",
    "\n",
    "#         dist[idx].distance = fiMinHj / len(dist[idx].fiSubHj) + minFiHj / len(dist[idx].fiSubHj)\n",
    "#         dist[idx].From = tempTrans[i].frameNumber\n",
    "#         dist[idx].To = tempTrans[j].frameNumber\n",
    "        \n",
    "#         if tempTrans[i].minDist > dist[idx].distance:\n",
    "#             tempTrans[i].minDist = dist[idx].distance\n",
    "#         if tempTrans[j].minDist > dist[idx].distance:\n",
    "#             tempTrans[j].minDist = dist[idx].distance\n",
    "        \n",
    "#         if i >len(tempTrans)-3:\n",
    "#             dist[idx].wordFrom = tempTrans[i].frameNumber\n",
    "#         if j > len(tempTrans)-3:\n",
    "#             dist[idx].wordTo = tempTrans[j].frameNumber\n",
    "#         idx+=1"
   ]
  },
  {
   "cell_type": "code",
   "execution_count": 46,
   "metadata": {
    "scrolled": true
   },
   "outputs": [],
   "source": [
    "def readVideo(vid):\n",
    "    cap = vid\n",
    "    frameCount = int(cap.get(cv2.CAP_PROP_FRAME_COUNT))\n",
    "    frameWidth = int(cap.get(cv2.CAP_PROP_FRAME_WIDTH))\n",
    "    frameHeight = int(cap.get(cv2.CAP_PROP_FRAME_HEIGHT))\n",
    "    \n",
    "    buf = np.empty((frameCount, frameHeight, frameWidth, 3), np.dtype('uint8'))\n",
    "    \n",
    "    fc = 0\n",
    "    ret = True\n",
    "\n",
    "    while (fc < frameCount  and ret):\n",
    "        ret, buf[fc] = cap.read()\n",
    "        fc += 1\n",
    "\n",
    "    cap.release()\n",
    "    return buf"
   ]
  },
  {
   "cell_type": "code",
   "execution_count": 47,
   "metadata": {
    "scrolled": true
   },
   "outputs": [],
   "source": [
    "#read transition video and save to array of images\n",
    "vidTrans = cv2.VideoCapture('/home/yulia/Documents/transition3.mp4')\n",
    "vidBaby = cv2.VideoCapture('/home/yulia/Documents/ASL/baby.mp4')\n",
    "vidAwake = cv2.VideoCapture('/home/yulia/Documents/ASL/awake.mp4')\n",
    "transImg = readVideo(vidTrans)"
   ]
  },
  {
   "cell_type": "code",
   "execution_count": 48,
   "metadata": {
    "scrolled": true
   },
   "outputs": [],
   "source": [
    "wordsVid = []\n",
    "wordsVid.append(readVideo(vidBaby))\n",
    "wordsVid.append(readVideo(vidAwake))"
   ]
  },
  {
   "cell_type": "code",
   "execution_count": 51,
   "metadata": {},
   "outputs": [],
   "source": [
    "writtenTrans = []\n",
    "for i in range(0, len(filteredTransByY)):\n",
    "    writtenTrans.append(transImg[filteredTransByY[i].frameNumber])"
   ]
  },
  {
   "cell_type": "code",
   "execution_count": 222,
   "metadata": {
    "scrolled": true
   },
   "outputs": [
    {
     "name": "stdout",
     "output_type": "stream",
     "text": [
      "29\n",
      "113\n",
      "30\n",
      "115\n",
      "17\n",
      "77\n",
      "104\n",
      "42\n"
     ]
    }
   ],
   "source": [
    "writtenTrans = []\n",
    "# transFrame.pop(0)\n",
    "# transFrame.pop(len(transFrame)-1)\n",
    "for i in range(1,len(arr_path)-1):\n",
    "    writtenTrans.append(transImg[arr_path[i].frameNumber])\n",
    "    print(arr_path[i].frameNumber)\n",
    "# for i in range(0,sortedCutPoint[0].idxDistTransA):\n",
    "#     writtenTrans.append(transImg[dist[0][i].idxTrans])\n",
    "# for i in range(sortedCutPoint[0].idxDistTransB-1, -1, -1):\n",
    "#     writtenTrans.append(transImg[dist[1][i].idxTrans])"
   ]
  },
  {
   "cell_type": "code",
   "execution_count": 52,
   "metadata": {
    "scrolled": true
   },
   "outputs": [],
   "source": [
    "totalWrittenFrames = []\n",
    "totalWrittenFrames.append(wordsVid[0])\n",
    "totalWrittenFrames.append(writtenTrans)\n",
    "totalWrittenFrames.append(wordsVid[1])"
   ]
  },
  {
   "cell_type": "code",
   "execution_count": 54,
   "metadata": {
    "scrolled": true
   },
   "outputs": [
    {
     "name": "stdout",
     "output_type": "stream",
     "text": [
      "0\n",
      "1\n",
      "2\n",
      "3\n",
      "4\n",
      "5\n",
      "6\n",
      "7\n",
      "8\n",
      "9\n",
      "10\n",
      "11\n",
      "12\n",
      "13\n",
      "14\n",
      "15\n",
      "16\n",
      "17\n",
      "18\n",
      "19\n",
      "20\n",
      "21\n",
      "22\n",
      "23\n",
      "24\n",
      "25\n",
      "26\n",
      "27\n",
      "28\n",
      "29\n",
      "30\n",
      "31\n",
      "32\n",
      "33\n",
      "0\n",
      "1\n",
      "2\n",
      "3\n",
      "4\n",
      "5\n",
      "6\n",
      "7\n",
      "8\n",
      "9\n",
      "10\n",
      "11\n",
      "12\n",
      "13\n",
      "14\n",
      "15\n",
      "16\n",
      "17\n",
      "18\n",
      "19\n",
      "20\n",
      "21\n",
      "22\n",
      "23\n",
      "24\n",
      "25\n",
      "26\n",
      "27\n",
      "28\n",
      "29\n",
      "30\n",
      "31\n",
      "32\n",
      "33\n",
      "34\n",
      "35\n",
      "36\n",
      "37\n",
      "38\n",
      "39\n",
      "40\n",
      "41\n",
      "42\n",
      "43\n",
      "44\n",
      "45\n",
      "46\n",
      "47\n",
      "48\n",
      "49\n",
      "50\n",
      "51\n",
      "52\n",
      "53\n",
      "54\n",
      "55\n",
      "0\n",
      "1\n",
      "2\n",
      "3\n",
      "4\n",
      "5\n",
      "6\n",
      "7\n",
      "8\n",
      "9\n",
      "10\n",
      "11\n",
      "12\n"
     ]
    }
   ],
   "source": [
    "height,width,channels = wordsVid[0][0].shape\n",
    "out = cv2.VideoWriter('/home/yulia/palm/filteredY.mp4',cv2.VideoWriter_fourcc('F','M','P', '4'), 10, (width,height))\n",
    "# out = cv2.VideoWriter('/home/yulia/outpyMax2.mp4',cv2.VideoWriter_fourcc('F','M','P', '4'), 10, (width,height))\n",
    "for i in range(0, len(totalWrittenFrames)):\n",
    "    for frame in range(0, len(totalWrittenFrames[i])):\n",
    "        out.write(totalWrittenFrames[i][frame])\n",
    "        print(frame)\n",
    "out.release()"
   ]
  },
  {
   "cell_type": "code",
   "execution_count": null,
   "metadata": {
    "scrolled": true
   },
   "outputs": [],
   "source": [
    "len(totalWrittenFrames[1])"
   ]
  },
  {
   "cell_type": "code",
   "execution_count": null,
   "metadata": {
    "scrolled": true
   },
   "outputs": [],
   "source": []
  }
 ],
 "metadata": {
  "kernelspec": {
   "display_name": "Python 3",
   "language": "python",
   "name": "python3"
  },
  "language_info": {
   "codemirror_mode": {
    "name": "ipython",
    "version": 3
   },
   "file_extension": ".py",
   "mimetype": "text/x-python",
   "name": "python",
   "nbconvert_exporter": "python",
   "pygments_lexer": "ipython3",
   "version": "3.5.2"
  }
 },
 "nbformat": 4,
 "nbformat_minor": 2
}
